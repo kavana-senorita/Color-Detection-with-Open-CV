{
  "nbformat": 4,
  "nbformat_minor": 0,
  "metadata": {
    "colab": {
      "provenance": [],
      "authorship_tag": "ABX9TyMspEywDxyPWJr6i8kBlc/2",
      "include_colab_link": true
    },
    "kernelspec": {
      "name": "python3",
      "display_name": "Python 3"
    },
    "language_info": {
      "name": "python"
    }
  },
  "cells": [
    {
      "cell_type": "markdown",
      "metadata": {
        "id": "view-in-github",
        "colab_type": "text"
      },
      "source": [
        "<a href=\"https://colab.research.google.com/github/kavana-senorita/Color-Detection-with-Open-CV/blob/main/Color_Detection_with_OpenCV_.ipynb\" target=\"_parent\"><img src=\"https://colab.research.google.com/assets/colab-badge.svg\" alt=\"Open In Colab\"/></a>"
      ]
    },
    {
      "cell_type": "code",
      "execution_count": 3,
      "metadata": {
        "id": "9lKtL5GT2UVK"
      },
      "outputs": [],
      "source": [
        "import cv2\n",
        "import numpy as np\n",
        "import pandas as pd"
      ]
    },
    {
      "cell_type": "code",
      "source": [
        "img = cv2.imread('cc.jpg')\n"
      ],
      "metadata": {
        "id": "8P2nLeA7BzIp"
      },
      "execution_count": 4,
      "outputs": []
    },
    {
      "cell_type": "code",
      "source": [
        "index = ['color','color_name','hex','R','G', 'B']\n",
        "csv = pd.read_csv('colors.csv',names = index, header = None)"
      ],
      "metadata": {
        "id": "R6VJhfiwCU_R"
      },
      "execution_count": 5,
      "outputs": []
    },
    {
      "cell_type": "code",
      "source": [
        "clicked = False\n",
        "r = g = b = xpos = ypos = 0"
      ],
      "metadata": {
        "id": "ew6ebF4aC6bg"
      },
      "execution_count": 6,
      "outputs": []
    },
    {
      "cell_type": "code",
      "source": [
        "def recognize_color(R,G,B):\n",
        "  minimum = 10000\n",
        "  for i in range(len(csv)):\n",
        "    d = abs(R- int(csv.loc[i,'R'])) + abs(G- int(csv.loc[i,'G']))  + abs (B- int(csv.loc[i, 'b']))\n",
        "    if(d<=minimum):\n",
        "      minimum=d\n",
        "      cname = csv.loc[i, 'color_name']\n",
        "  return cname\n"
      ],
      "metadata": {
        "id": "7sd0H0M1D1le"
      },
      "execution_count": 7,
      "outputs": []
    },
    {
      "cell_type": "code",
      "source": [
        "def mouse_click(event,x,y,flags, param):\n",
        "  if event == cv2.EVENT_LBUTTONDBLCLK:\n",
        "    global b,g,r,xpos,ypos,clicked\n",
        "    clicked = True\n",
        "    xpos = x\n",
        "    ypos = b,g,r = img[y,x]\n",
        "    b = int(b)\n",
        "    g = int(g)\n",
        "    r = int(r)\n",
        "\n"
      ],
      "metadata": {
        "id": "0ZdHBfSxFKvq"
      },
      "execution_count": 8,
      "outputs": []
    },
    {
      "cell_type": "code",
      "source": [
        "# It returns the name of the color and the color values when we double click on a certain area\n",
        "cv2.namedWindow('Color Recognition Application')\n",
        "cv2.setMouseCallback('Color Recognition Application',mouse_click)\n",
        "while(1):\n",
        "\n",
        "  cv2.imshow('Color Recognition Application',img)\n",
        "  if(clicked):\n",
        "\n",
        "    cv2.rectangle(img,(20,20), (750,60), (b,g,r), -1)\n",
        "    text = recognize_color(r,g,b) + 'R=' +str(r) + 'G=' +str(g) + 'B=' + str(b)\n",
        "\n",
        "    cv2. putText(img, text, (50,50), 2,0.8,(255,255,255), 2,cv2.LINE_AA)\n",
        "\n",
        "    if(r+g+b>=600):\n",
        "      cv2.putText(img,text,(50,50),2,0.8,(0,0,0),2,cv2.LINE_AA)\n",
        "\n",
        "    clicked=False\n",
        "\n",
        "    if cv2.waitKey(20) & 0xFF == 27:\n",
        "      break\n",
        "\n",
        "cv2.destroyAllWindows()\n",
        "\n",
        "\n"
      ],
      "metadata": {
        "id": "zahrxkbBIF_k"
      },
      "execution_count": null,
      "outputs": []
    },
    {
      "cell_type": "code",
      "source": [],
      "metadata": {
        "id": "tsQGkxFaOGZK"
      },
      "execution_count": null,
      "outputs": []
    }
  ]
}